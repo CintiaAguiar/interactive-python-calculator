{
  "nbformat": 4,
  "nbformat_minor": 0,
  "metadata": {
    "colab": {
      "provenance": [],
      "authorship_tag": "ABX9TyM0d9KKvS/kbq9c6Gnub/Ai",
      "include_colab_link": true
    },
    "kernelspec": {
      "name": "python3",
      "display_name": "Python 3"
    },
    "language_info": {
      "name": "python"
    }
  },
  "cells": [
    {
      "cell_type": "markdown",
      "metadata": {
        "id": "view-in-github",
        "colab_type": "text"
      },
      "source": [
        "<a href=\"https://colab.research.google.com/github/CintiaAguiar/interactive-python-calculator/blob/main/Projeto_V_Logica_de_programacao.ipynb\" target=\"_parent\"><img src=\"https://colab.research.google.com/assets/colab-badge.svg\" alt=\"Open In Colab\"/></a>"
      ]
    },
    {
      "cell_type": "markdown",
      "source": [
        "**Desafio Projeto V: Lógica de Programação**\n",
        "\n",
        "Faça uma função calculadora que os números e as operações serão feitas pelo usuário. O código deve ficar rodando infinitamente até que o usuário escolha a opção de sair. No início, o programa mostrará a seguinte lista de operações:\n",
        "\n",
        "1: Soma\n",
        "2: Subtração\n",
        "3: Multiplicação\n",
        "4: Divisão\n",
        "0: Sair\n",
        "\n",
        "Digite o número para a operação correspondente e caso o usuário introduza qualquer outro, o sistema deve mostrar a mensagem “Essa opção não existe” e voltar ao menu de opções.\n",
        "\n",
        "Após a seleção, o sistema deve pedir para o usuário inserir o primeiro e segundo valor, um de cada. Depois precisa executar a operação e mostrar o resultado na tela. Quando o usuário escolher a opção “Sair”, o sistema irá parar.\n",
        "\n",
        "É necessário que o sistema mostre as opções sempre que finalizar uma operação e mostrar o resultado."
      ],
      "metadata": {
        "id": "s9B9FTM_6yOo"
      }
    },
    {
      "cell_type": "code",
      "source": [
        "def calculadora():\n",
        "    while True:\n",
        "        # Exibir o menu de operações\n",
        "        print(\"\\nSelecione a operação:\")\n",
        "        print(\"1: Soma\")\n",
        "        print(\"2: Subtração\")\n",
        "        print(\"3: Multiplicação\")\n",
        "        print(\"4: Divisão\")\n",
        "        print(\"0: Sair\")\n",
        "\n",
        "        # Ler a escolha do usuário\n",
        "        operacao = input(\"Digite o número para a operação correspondente: \")\n",
        "\n",
        "        # Verificar se o usuário deseja sair\n",
        "        if operacao == '0':\n",
        "            print(\"Saindo do programa.\")\n",
        "            break\n",
        "\n",
        "        # Verificar se a escolha do usuário é válida\n",
        "        if operacao not in ['1', '2', '3', '4']:\n",
        "            print(\"Essa opção não existe. Tente novamente.\")\n",
        "            continue\n",
        "\n",
        "        # Ler os dois números para a operação\n",
        "        try:\n",
        "            num1 = float(input(\"Digite o primeiro número: \"))\n",
        "            num2 = float(input(\"Digite o segundo número: \"))\n",
        "        except ValueError:\n",
        "            print(\"Entrada inválida. Por favor, insira números válidos.\")\n",
        "            continue\n",
        "\n",
        "        # Executar a operação escolhida\n",
        "        if operacao == '1':\n",
        "            resultado = num1 + num2\n",
        "            print(f\"O resultado da soma é: {resultado}\")\n",
        "        elif operacao == '2':\n",
        "            resultado = num1 - num2\n",
        "            print(f\"O resultado da subtração é: {resultado}\")\n",
        "        elif operacao == '3':\n",
        "            resultado = num1 * num2\n",
        "            print(f\"O resultado da multiplicação é: {resultado}\")\n",
        "        elif operacao == '4':\n",
        "            if num2 != 0:\n",
        "                resultado = num1 / num2\n",
        "                print(f\"O resultado da divisão é: {resultado}\")\n",
        "            else:\n",
        "                print(\"Erro: Divisão por zero não é permitida.\")\n",
        "\n",
        "# Executar a calculadora\n",
        "calculadora()"
      ],
      "metadata": {
        "colab": {
          "base_uri": "https://localhost:8080/"
        },
        "id": "wYMQGuX_7NYx",
        "outputId": "3be2fee1-6532-4d1d-8876-95a6f9032ccd"
      },
      "execution_count": 2,
      "outputs": [
        {
          "output_type": "stream",
          "name": "stdout",
          "text": [
            "\n",
            "Selecione a operação:\n",
            "1: Soma\n",
            "2: Subtração\n",
            "3: Multiplicação\n",
            "4: Divisão\n",
            "0: Sair\n",
            "Digite o número para a operação correspondente: 0\n",
            "Saindo do programa.\n"
          ]
        }
      ]
    }
  ]
}